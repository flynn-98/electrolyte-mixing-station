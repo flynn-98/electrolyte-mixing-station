{
 "cells": [
  {
   "cell_type": "code",
   "execution_count": 1,
   "metadata": {},
   "outputs": [
    {
     "name": "stderr",
     "output_type": "stream",
     "text": [
      "INFO:root:Reading CSV file..\n",
      "INFO:root:Experiment ready to begin.\n"
     ]
    },
    {
     "name": "stdout",
     "output_type": "stream",
     "text": [
      "     Name   Volume (uL)   Starting Volume (mL)   Aspirate Speed (W/s)  \\\n",
      "0      O2            50                     10                      1   \n",
      "1      N2            20                     10                      1   \n",
      "2     CH4           200                     10                      1   \n",
      "3     NH4           100                     10                      1   \n",
      "4     CO2            50                     10                      1   \n",
      "5  CH3CH3            70                     10                      1   \n",
      "6      OH            10                     10                      1   \n",
      "7    NaOH            20                     10                      1   \n",
      "8     PO4            25                     10                      1   \n",
      "9      Au            35                     10                      1   \n",
      "\n",
      "    Aspirate Constant (mbar/ml)  \n",
      "0                             1  \n",
      "1                             1  \n",
      "2                             1  \n",
      "3                             1  \n",
      "4                             1  \n",
      "5                             1  \n",
      "6                             1  \n",
      "7                             1  \n",
      "8                             1  \n",
      "9                             1  \n"
     ]
    }
   ],
   "source": [
    "from robot_controller import experiment_setup\n",
    "experiment = experiment_setup.experiment(\"electrolye_recipe.csv\", \"COM12\", \"COM11\")"
   ]
  },
  {
   "cell_type": "code",
   "execution_count": null,
   "metadata": {},
   "outputs": [],
   "source": []
  }
 ],
 "metadata": {
  "kernelspec": {
   "display_name": "Python 3",
   "language": "python",
   "name": "python3"
  },
  "language_info": {
   "codemirror_mode": {
    "name": "ipython",
    "version": 3
   },
   "file_extension": ".py",
   "mimetype": "text/x-python",
   "name": "python",
   "nbconvert_exporter": "python",
   "pygments_lexer": "ipython3",
   "version": "3.12.5"
  }
 },
 "nbformat": 4,
 "nbformat_minor": 2
}
