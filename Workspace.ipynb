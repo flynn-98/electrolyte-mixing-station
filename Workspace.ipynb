{
 "cells": [
  {
   "cell_type": "markdown",
   "metadata": {},
   "source": [
    "# Mixing Station Workspace\n",
    "\n",
    "***\n",
    "\n",
    "Run the below code block to create a mixing_station instance, using the device names and com port addresses provided [here](data/devices/mixing_stations.json)."
   ]
  },
  {
   "cell_type": "code",
   "execution_count": 1,
   "metadata": {},
   "outputs": [
    {
     "name": "stdout",
     "output_type": "stream",
     "text": [
      "2025-02-04 12:31:17 INFO: Located device data for microtron_02.\n",
      "2025-02-04 12:31:17 INFO: Configuring gantry kit serial port..\n",
      "2025-02-04 12:31:17 INFO: Attempting to open gantry kit serial port..\n",
      "2025-02-04 12:31:18 INFO: Gantry Kit Ready\n",
      "2025-02-04 12:31:18 INFO: Serial connection to gantry kit established.\n",
      "2025-02-04 12:31:18 INFO: No serial connection to pipette established.\n",
      "2025-02-04 12:31:18 INFO: Disc pump gauge pressure set as 0mbar.\n",
      "2025-02-04 12:31:18 INFO: No serial connection to fluid handling kit established.\n",
      "2025-02-04 12:31:18 INFO: No serial connection to mass balance established.\n",
      "2025-02-04 12:31:18 INFO: No serial connection to temperature controller established.\n",
      "2025-02-04 12:31:20 INFO: Gantry location recovered\n",
      "2025-02-04 12:31:20 INFO: Response from gantry kit: Gantry location recovered\n",
      "2025-02-04 12:31:41 INFO: Gantry Kit Ready\n",
      "2025-02-04 12:31:41 INFO: Response from gantry kit: Gantry Kit Ready\n"
     ]
    }
   ],
   "source": [
    "%load_ext autoreload\n",
    "%autoreload 2\n",
    "\n",
    "from src.robot_controller import mixing_station\n",
    "\n",
    "mixing_station = mixing_station.scheduler(device_name=\"microtron_02\", home=True)"
   ]
  },
  {
   "cell_type": "markdown",
   "metadata": {},
   "source": [
    "***\n",
    "\n",
    "## Some Theory\n",
    "\n",
    "The mixing station pulls information on each constituent electrolyte from a CSV file when creating a new electrolyte mixture. The constituents are numbered, which corresponds to the location of their container in the physical workspace. See the required information for each constituent below..\n",
    "\n",
    "| # | Name | Dose Volume (uL) | Container Volume (mL) | Density (g/mL) | Aspirate Constant (mbar/uL) | Aspirate Speed (uL/s) |\n",
    "| --- | --- | --- | --- | --- | --- | --- |\n",
    "\n",
    "Based on the [literature](https://www.theleeco.com/uploads/2023/06/AN049-Pipetting-Disc-Pump-Application-Note-1.pdf), we can expect the aspirate constant to be roughly equal to the system pressure $P_r$ divided by the reservoir volume $V_r$. The system pressure can be assumed equal to atmospheric pressure $\\approx$ 1000mbar and the chosen reservoir volume is 2500uL $\\implies$ the constant should be about **0.4mbar/uL**.\n",
    "\n",
    "$$ \\Delta P_r = \\frac{P_s}{V_r} V_{asp} $$ \n",
    "\n",
    "For more viscous liquids, this value may increase based on the ohm's law equivalent of fluid flow through a pipe (the Hagen-Poiseuille equation). To compensate for this, an extra variable is included to slow down the rate of aspiration in an attempt to lower the pressure change required to aspirate more viscous fluids. Along with the response time of the pressure PID controller, the aspirate speed will determine how quickly the pressure of the disc pump changes. A typical value would be **10uL/s**.\n",
    "\n",
    "$$ \\Delta P = \\frac{8 \\mu L}{\\pi R^4} Q $$ \n",
    "\n",
    "***\n",
    "\n",
    "## Tune Aspiration Variables\n",
    "\n",
    "**The aspirate speed can be set to zero, to jump straight to the aspiration pressure, for low viscosity liquids.**\n",
    "\n",
    "You can run the below code blocks to perform automatic tuning, where the machine will loop through the parameter ranges and use mass balance data to measure the errors. Tuning therefore requires the mass balance to be connected, and that the mixing chamber outputs to a container on the mass balance."
   ]
  },
  {
   "cell_type": "code",
   "execution_count": null,
   "metadata": {},
   "outputs": [],
   "source": [
    "%matplotlib inline\n",
    "mixing_station.tune(pot_number = 1, aspirate_volume = [1.0, 50.0], asp_const = [0.3, 0.8], container_volume = 35, asp_speed = 0, density = 1.0, N = 5, M = 5)"
   ]
  },
  {
   "cell_type": "markdown",
   "metadata": {},
   "source": [
    "**Aspiration tuning can also be run for a range of aspiration speeds..** "
   ]
  },
  {
   "cell_type": "code",
   "execution_count": null,
   "metadata": {},
   "outputs": [],
   "source": [
    "%matplotlib inline\n",
    "for speed in [0, 100, 50, 20, 10]: #uL/s\n",
    "    mixing_station.tune(pot_number = 1, aspirate_volume = [1.0, 50.0], asp_const = [0.3, 0.8], container_volume = 35, asp_speed = speed, density = 1.0, N = 5, M = 5)"
   ]
  },
  {
   "cell_type": "markdown",
   "metadata": {},
   "source": [
    "### Update [this](data/CSVs/electrolyte_recipe.csv) CSV file with the chosen variables before beginning an experiment! \n",
    "\n",
    "***"
   ]
  },
  {
   "cell_type": "markdown",
   "metadata": {},
   "source": [
    "## Run Experiment\n",
    "\n",
    "Running the below code block will begin a single experiment that creates an electrolye mixture based on the volumes of constitutent electrolytes given in the [electrolyte receipe csv file](data/recipes/electrolyte_recipe.csv)."
   ]
  },
  {
   "cell_type": "code",
   "execution_count": null,
   "metadata": {},
   "outputs": [],
   "source": [
    "mixing_station.csv_filename = \"electrolyte_recipe.csv\"\n",
    "mixing_station.read_csv()\n",
    "\n",
    "mixing_station.run()"
   ]
  },
  {
   "cell_type": "markdown",
   "metadata": {},
   "source": [
    "***\n",
    "\n",
    "### Run life test\n",
    "\n",
    "Run *N* number of experiments in succession, using the parameters defined in the [life test csv file](data/recipes/life_test.csv)."
   ]
  },
  {
   "cell_type": "code",
   "execution_count": null,
   "metadata": {},
   "outputs": [],
   "source": [
    "mixing_station.csv_filename = \"life_test.csv\"\n",
    "mixing_station.read_csv()\n",
    "\n",
    "mixing_station.run_life_test(N=10)"
   ]
  },
  {
   "cell_type": "markdown",
   "metadata": {},
   "source": [
    "***\n",
    "\n",
    "## Future Work\n",
    "\n",
    "Once the viability of the Mixing Station has been validated, we can look to use an API to call `experiment.run()` via the [Atinary software](https://scientia.atinary.com/sdlabs/academic/dashboard), enabling a self-driving lab setup where the constituent volumes are updated with each run."
   ]
  }
 ],
 "metadata": {
  "kernelspec": {
   "display_name": ".venv",
   "language": "python",
   "name": "python3"
  },
  "language_info": {
   "codemirror_mode": {
    "name": "ipython",
    "version": 3
   },
   "file_extension": ".py",
   "mimetype": "text/x-python",
   "name": "python",
   "nbconvert_exporter": "python",
   "pygments_lexer": "ipython3",
   "version": "3.13.0"
  }
 },
 "nbformat": 4,
 "nbformat_minor": 2
}
