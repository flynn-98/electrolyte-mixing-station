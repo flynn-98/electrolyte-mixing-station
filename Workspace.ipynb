{
 "cells": [
  {
   "cell_type": "markdown",
   "metadata": {},
   "source": [
    "# Mixing Station Workspace\n",
    "\n",
    "***************************\n",
    "\n",
    "Update the .csv file to include the desired constituent electrolytes and their volume ratios, making sure they match up to the correct numbered location on the physical workspace. The columns in the .csv file correspond to the following.. \n",
    "\n",
    "| Name | Volume (uL) | Starting Volume (mL) | Density (g/mL) | Aspirate Constant (mbar/uL) | Aspirate Speed (uL/s) |\n",
    "| --- | --- | --- | --- | --- | --- |\n",
    "\n",
    "Run the code block below and confirm that your total volume is correct.\n",
    "\n",
    "*Note: When debugging, you can set `SIM=True` to execute the code without attempting to connect to the gantry or pipette systems.*"
   ]
  },
  {
   "cell_type": "code",
   "execution_count": 2,
   "metadata": {},
   "outputs": [
    {
     "name": "stdout",
     "output_type": "stream",
     "text": [
      "Configuring gantry serial port..\n",
      "Attempting to open gantry serial port..\n",
      "Failed to establish serial connection to gantry.\n"
     ]
    },
    {
     "ename": "NameError",
     "evalue": "name 'exit' is not defined",
     "output_type": "error",
     "traceback": [
      "\u001b[0;31m---------------------------------------------------------------------------\u001b[0m",
      "\u001b[0;31mNameError\u001b[0m                                 Traceback (most recent call last)",
      "Cell \u001b[0;32mIn[2], line 3\u001b[0m\n\u001b[1;32m      1\u001b[0m \u001b[38;5;28;01mfrom\u001b[39;00m \u001b[38;5;21;01msrc\u001b[39;00m\u001b[38;5;21;01m.\u001b[39;00m\u001b[38;5;21;01mrobot_controller\u001b[39;00m \u001b[38;5;28;01mimport\u001b[39;00m experiment_setup\n\u001b[0;32m----> 3\u001b[0m experiment \u001b[38;5;241m=\u001b[39m \u001b[43mexperiment_setup\u001b[49m\u001b[38;5;241;43m.\u001b[39;49m\u001b[43mexperiment\u001b[49m\u001b[43m(\u001b[49m\u001b[43mGANTRY_COM\u001b[49m\u001b[38;5;241;43m=\u001b[39;49m\u001b[38;5;124;43m\"\u001b[39;49m\u001b[38;5;124;43m/dev/cu.usbmodem1101\u001b[39;49m\u001b[38;5;124;43m\"\u001b[39;49m\u001b[43m,\u001b[49m\u001b[43m \u001b[49m\u001b[43mPIPETTE_COM\u001b[49m\u001b[38;5;241;43m=\u001b[39;49m\u001b[38;5;124;43m\"\u001b[39;49m\u001b[38;5;124;43m/dev/cu.usbmodem1101\u001b[39;49m\u001b[38;5;124;43m\"\u001b[39;49m\u001b[43m,\u001b[49m\u001b[43m \u001b[49m\u001b[43mGANTRY_SIM\u001b[49m\u001b[38;5;241;43m=\u001b[39;49m\u001b[38;5;28;43;01mFalse\u001b[39;49;00m\u001b[43m,\u001b[49m\u001b[43m \u001b[49m\u001b[43mPIPETTE_SIM\u001b[49m\u001b[38;5;241;43m=\u001b[39;49m\u001b[38;5;28;43;01mTrue\u001b[39;49;00m\u001b[43m)\u001b[49m\n\u001b[1;32m      4\u001b[0m experiment\u001b[38;5;241m.\u001b[39mread_csv(CSV_PATH\u001b[38;5;241m=\u001b[39m\u001b[38;5;124m\"\u001b[39m\u001b[38;5;124melectrolyte_recipe.csv\u001b[39m\u001b[38;5;124m\"\u001b[39m)\n",
      "File \u001b[0;32m~/Documents/GitHub/electrolyte-mixing-station/src/robot_controller/experiment_setup.py:33\u001b[0m, in \u001b[0;36mexperiment.__init__\u001b[0;34m(self, GANTRY_COM, PIPETTE_COM, GANTRY_SIM, PIPETTE_SIM)\u001b[0m\n\u001b[1;32m     30\u001b[0m \u001b[38;5;28mself\u001b[39m\u001b[38;5;241m.\u001b[39mSIM \u001b[38;5;241m=\u001b[39m PIPETTE_SIM\n\u001b[1;32m     32\u001b[0m \u001b[38;5;66;03m# Establish serial connections\u001b[39;00m\n\u001b[0;32m---> 33\u001b[0m \u001b[38;5;28mself\u001b[39m\u001b[38;5;241m.\u001b[39mgantry \u001b[38;5;241m=\u001b[39m \u001b[43mgantry_controller\u001b[49m\u001b[38;5;241;43m.\u001b[39;49m\u001b[43mgantry\u001b[49m\u001b[43m(\u001b[49m\u001b[43mGANTRY_COM\u001b[49m\u001b[43m,\u001b[49m\u001b[43m \u001b[49m\u001b[43mGANTRY_SIM\u001b[49m\u001b[43m)\u001b[49m\n\u001b[1;32m     34\u001b[0m \u001b[38;5;28mself\u001b[39m\u001b[38;5;241m.\u001b[39mpipette \u001b[38;5;241m=\u001b[39m pipette_controller\u001b[38;5;241m.\u001b[39mpipette(PIPETTE_COM, PIPETTE_SIM)\n\u001b[1;32m     36\u001b[0m \u001b[38;5;66;03m# Pot locations 1 -> 10 (mm)\u001b[39;00m\n",
      "File \u001b[0;32m~/Documents/GitHub/electrolyte-mixing-station/.venv/lib/python3.13/site-packages/robot_controller/gantry_controller.py:26\u001b[0m, in \u001b[0;36mgantry.__init__\u001b[0;34m(self, COM, sim)\u001b[0m\n\u001b[1;32m     24\u001b[0m     \u001b[38;5;28;01melse\u001b[39;00m:\n\u001b[1;32m     25\u001b[0m         logging\u001b[38;5;241m.\u001b[39merror(\u001b[38;5;124m\"\u001b[39m\u001b[38;5;124mFailed to establish serial connection to gantry.\u001b[39m\u001b[38;5;124m\"\u001b[39m)\n\u001b[0;32m---> 26\u001b[0m         \u001b[43mexit\u001b[49m()\n\u001b[1;32m     28\u001b[0m \u001b[38;5;28;01melse\u001b[39;00m:\n\u001b[1;32m     29\u001b[0m     logging\u001b[38;5;241m.\u001b[39minfo(\u001b[38;5;124m\"\u001b[39m\u001b[38;5;124mNo serial connection to gantry established.\u001b[39m\u001b[38;5;124m\"\u001b[39m)\n",
      "\u001b[0;31mNameError\u001b[0m: name 'exit' is not defined"
     ]
    }
   ],
   "source": [
    "from src.robot_controller import experiment_setup\n",
    "\n",
    "experiment = experiment_setup.experiment(GANTRY_COM=\"/dev/cu.usbmodem1101\", PIPETTE_COM=\"/dev/cu.usbmodem1101\", GANTRY_SIM=False, PIPETTE_SIM=True)\n",
    "experiment.read_csv(CSV_PATH=\"electrolyte_recipe.csv\")"
   ]
  },
  {
   "cell_type": "markdown",
   "metadata": {},
   "source": [
    "## Run Experiment\n",
    "\n",
    "Running the below code block will begin the electrolyte formulation using the volumes and aspiration variables given in the CSV file. \n",
    "\n",
    "*TODO: How will this integrate with an optimiser to update the constituent ratios with each repeat?*"
   ]
  },
  {
   "cell_type": "code",
   "execution_count": null,
   "metadata": {},
   "outputs": [],
   "source": [
    "experiment.run(N=1)"
   ]
  },
  {
   "cell_type": "markdown",
   "metadata": {},
   "source": [
    "******************************\n",
    "## Tune Aspiration Variables\n",
    "\n",
    "Based on the literature, we can expect the aspirate constant to be roughly equal to the system pressure $P_r$ divided by the reservoir volume $V_r$. The system pressure can be assumed equal to atmospheric pressure $\\approx$ 1000mbar and the chosen reservoir volume is 2000uL $\\implies$ the constant should be about **0.5mbar/uL**.\n",
    "\n",
    "$$ \\Delta P_r = \\frac{P_s}{V_r} V_{asp} $$ \n",
    "\n",
    "For more viscous liquids, this value may increase based on the ohm's law equivalent of fluid flow through a pipe (the Hagen-Poiseuille equation). To compensate for this, an extra variable is included to slow down the rate of aspiration in an attempt to lower the pressure change required to aspirate more viscous fluids. Along with the response time of the pressure PID controller, the aspirate speed will determine how quickly the pressure of the disc pump changes. A typical value would be **10uL/s**.\n",
    "\n",
    "$$ \\Delta P = \\frac{8 \\mu L}{\\pi R^4} Q $$ "
   ]
  },
  {
   "cell_type": "code",
   "execution_count": null,
   "metadata": {},
   "outputs": [],
   "source": [
    "%matplotlib inline\n",
    "experiment.tune(name=\"example\", pot_number=1, aspirate_volume=10, starting_volume=50, asp_const_range=[0.4, 0.6], asp_speed_range=[8, 10], N=5)"
   ]
  },
  {
   "cell_type": "markdown",
   "metadata": {},
   "source": [
    "### Update the [CSV](electrolyte_recipe.csv) with the chosen variables before beginning an experiment! "
   ]
  }
 ],
 "metadata": {
  "kernelspec": {
   "display_name": ".venv",
   "language": "python",
   "name": "python3"
  },
  "language_info": {
   "codemirror_mode": {
    "name": "ipython",
    "version": 3
   },
   "file_extension": ".py",
   "mimetype": "text/x-python",
   "name": "python",
   "nbconvert_exporter": "python",
   "pygments_lexer": "ipython3",
   "version": "3.13.0"
  }
 },
 "nbformat": 4,
 "nbformat_minor": 2
}
