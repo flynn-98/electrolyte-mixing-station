{
 "cells": [
  {
   "cell_type": "markdown",
   "metadata": {},
   "source": [
    "# Mixing Station Workspace\n",
    "\n",
    "Update the .csv file to include the desired constituent electrolytes and their volume ratios, making sure they match up to the correct numbered location on the physical workspace. The columns in the .csv file correspond to the following.. \n",
    "\n",
    "| Name | Volume (uL) | Starting Volume (mL) | Aspirate Speed (W/s) | Aspirate Constant (mbar/ml) |\n",
    "| --- | --- | --- | --- | --- |\n",
    "\n",
    "Run the code block below and confirm that your total volume is correct."
   ]
  },
  {
   "cell_type": "code",
   "execution_count": 1,
   "metadata": {},
   "outputs": [
    {
     "name": "stderr",
     "output_type": "stream",
     "text": [
      "INFO:root:No serial connection to gantry established.\n"
     ]
    },
    {
     "ename": "AttributeError",
     "evalue": "module 'robot_controller.pipette_controller' has no attribute 'pipette'",
     "output_type": "error",
     "traceback": [
      "\u001b[0;31m---------------------------------------------------------------------------\u001b[0m",
      "\u001b[0;31mAttributeError\u001b[0m                            Traceback (most recent call last)",
      "Cell \u001b[0;32mIn[1], line 2\u001b[0m\n\u001b[1;32m      1\u001b[0m \u001b[38;5;28;01mfrom\u001b[39;00m \u001b[38;5;21;01msrc\u001b[39;00m\u001b[38;5;21;01m.\u001b[39;00m\u001b[38;5;21;01mrobot_controller\u001b[39;00m \u001b[38;5;28;01mimport\u001b[39;00m experiment_setup\n\u001b[0;32m----> 2\u001b[0m experiment \u001b[38;5;241m=\u001b[39m \u001b[43mexperiment_setup\u001b[49m\u001b[38;5;241;43m.\u001b[39;49m\u001b[43mexperiment\u001b[49m\u001b[43m(\u001b[49m\u001b[38;5;124;43m\"\u001b[39;49m\u001b[38;5;124;43melectrolye_recipe.csv\u001b[39;49m\u001b[38;5;124;43m\"\u001b[39;49m\u001b[43m,\u001b[49m\u001b[43m \u001b[49m\u001b[38;5;124;43m\"\u001b[39;49m\u001b[38;5;124;43mCOM12\u001b[39;49m\u001b[38;5;124;43m\"\u001b[39;49m\u001b[43m,\u001b[49m\u001b[43m \u001b[49m\u001b[38;5;124;43m\"\u001b[39;49m\u001b[38;5;124;43mCOM11\u001b[39;49m\u001b[38;5;124;43m\"\u001b[39;49m\u001b[43m,\u001b[49m\u001b[43m \u001b[49m\u001b[43mSIM\u001b[49m\u001b[38;5;241;43m=\u001b[39;49m\u001b[38;5;28;43;01mTrue\u001b[39;49;00m\u001b[43m)\u001b[49m\n",
      "File \u001b[0;32m~/Documents/electrolyte-mixing-station/src/robot_controller/experiment_setup.py:18\u001b[0m, in \u001b[0;36mexperiment.__init__\u001b[0;34m(self, CSV_PATH, GANTRY_COM, PIPETTE_COM, SIM)\u001b[0m\n\u001b[1;32m     14\u001b[0m \u001b[38;5;28;01mdef\u001b[39;00m \u001b[38;5;21m__init__\u001b[39m(\u001b[38;5;28mself\u001b[39m, CSV_PATH, GANTRY_COM, PIPETTE_COM, SIM\u001b[38;5;241m=\u001b[39m\u001b[38;5;28;01mFalse\u001b[39;00m):\n\u001b[1;32m     15\u001b[0m \n\u001b[1;32m     16\u001b[0m     \u001b[38;5;66;03m# Establish serial connections\u001b[39;00m\n\u001b[1;32m     17\u001b[0m     \u001b[38;5;28mself\u001b[39m\u001b[38;5;241m.\u001b[39mgantry \u001b[38;5;241m=\u001b[39m gantry_controller\u001b[38;5;241m.\u001b[39mgantry(GANTRY_COM, SIM)\n\u001b[0;32m---> 18\u001b[0m     \u001b[38;5;28mself\u001b[39m\u001b[38;5;241m.\u001b[39mpipette \u001b[38;5;241m=\u001b[39m \u001b[43mpipette_controller\u001b[49m\u001b[38;5;241;43m.\u001b[39;49m\u001b[43mpipette\u001b[49m(PIPETTE_COM, SIM)\n\u001b[1;32m     20\u001b[0m     \u001b[38;5;66;03m# Pot locations 1 -> 10\u001b[39;00m\n\u001b[1;32m     21\u001b[0m     \u001b[38;5;28mself\u001b[39m\u001b[38;5;241m.\u001b[39mpot_locations \u001b[38;5;241m=\u001b[39m [[\u001b[38;5;241m7\u001b[39m, \u001b[38;5;241m21\u001b[39m], [\u001b[38;5;241m7\u001b[39m, \u001b[38;5;241m55\u001b[39m], \n\u001b[1;32m     22\u001b[0m                           [\u001b[38;5;241m41\u001b[39m, \u001b[38;5;241m21\u001b[39m], [\u001b[38;5;241m41\u001b[39m, \u001b[38;5;241m55\u001b[39m], \n\u001b[1;32m     23\u001b[0m                           [\u001b[38;5;241m75\u001b[39m, \u001b[38;5;241m21\u001b[39m], [\u001b[38;5;241m75\u001b[39m, \u001b[38;5;241m55\u001b[39m], \n\u001b[1;32m     24\u001b[0m                           [\u001b[38;5;241m109\u001b[39m, \u001b[38;5;241m21\u001b[39m], [\u001b[38;5;241m109\u001b[39m, \u001b[38;5;241m55\u001b[39m], \n\u001b[1;32m     25\u001b[0m                           [\u001b[38;5;241m143\u001b[39m, \u001b[38;5;241m21\u001b[39m], [\u001b[38;5;241m143\u001b[39m, \u001b[38;5;241m55\u001b[39m]\n\u001b[1;32m     26\u001b[0m                         ]\n",
      "\u001b[0;31mAttributeError\u001b[0m: module 'robot_controller.pipette_controller' has no attribute 'pipette'"
     ]
    }
   ],
   "source": [
    "from src.robot_controller import experiment_setup\n",
    "experiment = experiment_setup.experiment(\"electrolye_recipe.csv\", \"COM12\", \"COM11\", SIM=True)"
   ]
  },
  {
   "cell_type": "markdown",
   "metadata": {},
   "source": [
    "## Run Experiment"
   ]
  },
  {
   "cell_type": "code",
   "execution_count": 2,
   "metadata": {},
   "outputs": [
    {
     "name": "stderr",
     "output_type": "stream",
     "text": [
      "INFO:root:Moving to O2..\n",
      "INFO:root:Pipette charged.\n",
      "INFO:root:Dropping Pipette into O2..\n",
      "INFO:root:Aspiration complete.\n",
      "INFO:root:Moving Pipette out of O2..\n",
      "INFO:root:Moving to Mixing Chamber..\n",
      "INFO:root:Dispense complete.\n",
      "INFO:root:Moving to N2..\n",
      "INFO:root:Pipette charged.\n",
      "INFO:root:Dropping Pipette into N2..\n",
      "INFO:root:Aspiration complete.\n",
      "INFO:root:Moving Pipette out of N2..\n",
      "INFO:root:Moving to Mixing Chamber..\n",
      "INFO:root:Dispense complete.\n",
      "INFO:root:Moving to CH4..\n",
      "INFO:root:Pipette charged.\n",
      "INFO:root:Dropping Pipette into CH4..\n",
      "INFO:root:Aspiration complete.\n",
      "INFO:root:Moving Pipette out of CH4..\n",
      "INFO:root:Moving to Mixing Chamber..\n",
      "INFO:root:Dispense complete.\n",
      "INFO:root:Moving to NH4..\n",
      "INFO:root:Pipette charged.\n",
      "INFO:root:Dropping Pipette into NH4..\n",
      "INFO:root:Aspiration complete.\n",
      "INFO:root:Moving Pipette out of NH4..\n",
      "INFO:root:Moving to Mixing Chamber..\n",
      "INFO:root:Dispense complete.\n",
      "INFO:root:Moving to CH3CH3..\n",
      "INFO:root:Pipette charged.\n",
      "INFO:root:Dropping Pipette into CH3CH3..\n",
      "INFO:root:Aspiration complete.\n",
      "INFO:root:Moving Pipette out of CH3CH3..\n",
      "INFO:root:Moving to Mixing Chamber..\n",
      "INFO:root:Dispense complete.\n",
      "INFO:root:Moving to OH..\n",
      "INFO:root:Pipette charged.\n",
      "INFO:root:Dropping Pipette into OH..\n",
      "INFO:root:Aspiration complete.\n",
      "INFO:root:Moving Pipette out of OH..\n",
      "INFO:root:Moving to Mixing Chamber..\n",
      "INFO:root:Dispense complete.\n",
      "INFO:root:Moving to PO4..\n",
      "INFO:root:Pipette charged.\n",
      "INFO:root:Dropping Pipette into PO4..\n",
      "INFO:root:Aspiration complete.\n",
      "INFO:root:Moving Pipette out of PO4..\n",
      "INFO:root:Moving to Mixing Chamber..\n",
      "INFO:root:Dispense complete.\n",
      "INFO:root:Moving to Au..\n",
      "INFO:root:Pipette charged.\n",
      "INFO:root:Dropping Pipette into Au..\n",
      "INFO:root:Aspiration complete.\n",
      "INFO:root:Moving Pipette out of Au..\n",
      "INFO:root:Moving to Mixing Chamber..\n",
      "INFO:root:Dispense complete.\n"
     ]
    }
   ],
   "source": [
    "experiment.run()"
   ]
  }
 ],
 "metadata": {
  "kernelspec": {
   "display_name": ".venv",
   "language": "python",
   "name": "python3"
  },
  "language_info": {
   "codemirror_mode": {
    "name": "ipython",
    "version": 3
   },
   "file_extension": ".py",
   "mimetype": "text/x-python",
   "name": "python",
   "nbconvert_exporter": "python",
   "pygments_lexer": "ipython3",
   "version": "3.13.0"
  }
 },
 "nbformat": 4,
 "nbformat_minor": 2
}
