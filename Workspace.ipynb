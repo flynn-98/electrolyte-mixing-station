{
 "cells": [
  {
   "cell_type": "markdown",
   "metadata": {},
   "source": [
    "# Mixing Station Workspace\n",
    "\n",
    "***************************\n",
    "\n",
    "Update the .csv file to include the desired constituent electrolytes and their volume ratios, making sure they match up to the correct numbered location on the physical workspace. The columns in the .csv file correspond to the following.. \n",
    "\n",
    "| Name | Volume (uL) | Starting Volume (mL) | Density (g/mL) | Aspirate Constant (mbar/uL) | Aspirate Speed (uL/s) |\n",
    "| --- | --- | --- | --- | --- | --- |\n",
    "\n",
    "Run the code block below and confirm that your total volume is correct.\n",
    "\n",
    "*Note: When debugging, you can set `SIM=True` to execute the code without attempting to connect to the gantry or pipette systems.*"
   ]
  },
  {
   "cell_type": "code",
   "execution_count": 1,
   "metadata": {},
   "outputs": [
    {
     "name": "stdout",
     "output_type": "stream",
     "text": [
      "Configuring gantry serial port..\n",
      "Attempting to open gantry serial port..\n",
      "Serial connection to gantry established.\n",
      "No serial connection to pipette established.\n",
      "Disc pump gauge pressure set as 1000mbar.\n",
      "Reading CSV file..\n"
     ]
    },
    {
     "data": {
      "text/html": [
       "<div>\n",
       "<style scoped>\n",
       "    .dataframe tbody tr th:only-of-type {\n",
       "        vertical-align: middle;\n",
       "    }\n",
       "\n",
       "    .dataframe tbody tr th {\n",
       "        vertical-align: top;\n",
       "    }\n",
       "\n",
       "    .dataframe thead th {\n",
       "        text-align: right;\n",
       "    }\n",
       "</style>\n",
       "<table border=\"1\" class=\"dataframe\">\n",
       "  <thead>\n",
       "    <tr style=\"text-align: right;\">\n",
       "      <th></th>\n",
       "      <th>Name</th>\n",
       "      <th>Volume (uL)</th>\n",
       "      <th>Starting Volume (mL)</th>\n",
       "      <th>Density (g/mL)</th>\n",
       "      <th>Aspirate Constant (mbar/mL)</th>\n",
       "      <th>Aspirate Speed (uL/s)</th>\n",
       "    </tr>\n",
       "  </thead>\n",
       "  <tbody>\n",
       "    <tr>\n",
       "      <th>0</th>\n",
       "      <td>O2</td>\n",
       "      <td>50.0</td>\n",
       "      <td>10.0</td>\n",
       "      <td>1.0</td>\n",
       "      <td>0.5</td>\n",
       "      <td>10.0</td>\n",
       "    </tr>\n",
       "    <tr>\n",
       "      <th>1</th>\n",
       "      <td>N2</td>\n",
       "      <td>20.0</td>\n",
       "      <td>10.0</td>\n",
       "      <td>1.0</td>\n",
       "      <td>0.5</td>\n",
       "      <td>10.0</td>\n",
       "    </tr>\n",
       "    <tr>\n",
       "      <th>2</th>\n",
       "      <td>CH4</td>\n",
       "      <td>200.0</td>\n",
       "      <td>10.0</td>\n",
       "      <td>1.0</td>\n",
       "      <td>0.5</td>\n",
       "      <td>10.0</td>\n",
       "    </tr>\n",
       "    <tr>\n",
       "      <th>3</th>\n",
       "      <td>NH4</td>\n",
       "      <td>100.0</td>\n",
       "      <td>10.0</td>\n",
       "      <td>1.0</td>\n",
       "      <td>0.5</td>\n",
       "      <td>10.0</td>\n",
       "    </tr>\n",
       "    <tr>\n",
       "      <th>4</th>\n",
       "      <td>CO2</td>\n",
       "      <td>0.0</td>\n",
       "      <td>10.0</td>\n",
       "      <td>1.0</td>\n",
       "      <td>0.5</td>\n",
       "      <td>10.0</td>\n",
       "    </tr>\n",
       "    <tr>\n",
       "      <th>5</th>\n",
       "      <td>CH3CH3</td>\n",
       "      <td>70.0</td>\n",
       "      <td>10.0</td>\n",
       "      <td>1.0</td>\n",
       "      <td>0.5</td>\n",
       "      <td>10.0</td>\n",
       "    </tr>\n",
       "    <tr>\n",
       "      <th>6</th>\n",
       "      <td>OH</td>\n",
       "      <td>10.0</td>\n",
       "      <td>10.0</td>\n",
       "      <td>1.0</td>\n",
       "      <td>0.5</td>\n",
       "      <td>10.0</td>\n",
       "    </tr>\n",
       "    <tr>\n",
       "      <th>7</th>\n",
       "      <td>NaOH</td>\n",
       "      <td>0.0</td>\n",
       "      <td>10.0</td>\n",
       "      <td>1.0</td>\n",
       "      <td>0.5</td>\n",
       "      <td>10.0</td>\n",
       "    </tr>\n",
       "    <tr>\n",
       "      <th>8</th>\n",
       "      <td>PO4</td>\n",
       "      <td>25.0</td>\n",
       "      <td>10.0</td>\n",
       "      <td>1.0</td>\n",
       "      <td>0.5</td>\n",
       "      <td>10.0</td>\n",
       "    </tr>\n",
       "    <tr>\n",
       "      <th>9</th>\n",
       "      <td>Au</td>\n",
       "      <td>35.0</td>\n",
       "      <td>10.0</td>\n",
       "      <td>1.0</td>\n",
       "      <td>0.5</td>\n",
       "      <td>10.0</td>\n",
       "    </tr>\n",
       "  </tbody>\n",
       "</table>\n",
       "</div>"
      ],
      "text/plain": [
       "     Name  Volume (uL)  Starting Volume (mL)  Density (g/mL)  \\\n",
       "0      O2         50.0                  10.0             1.0   \n",
       "1      N2         20.0                  10.0             1.0   \n",
       "2     CH4        200.0                  10.0             1.0   \n",
       "3     NH4        100.0                  10.0             1.0   \n",
       "4     CO2          0.0                  10.0             1.0   \n",
       "5  CH3CH3         70.0                  10.0             1.0   \n",
       "6      OH         10.0                  10.0             1.0   \n",
       "7    NaOH          0.0                  10.0             1.0   \n",
       "8     PO4         25.0                  10.0             1.0   \n",
       "9      Au         35.0                  10.0             1.0   \n",
       "\n",
       "   Aspirate Constant (mbar/mL)  Aspirate Speed (uL/s)  \n",
       "0                          0.5                   10.0  \n",
       "1                          0.5                   10.0  \n",
       "2                          0.5                   10.0  \n",
       "3                          0.5                   10.0  \n",
       "4                          0.5                   10.0  \n",
       "5                          0.5                   10.0  \n",
       "6                          0.5                   10.0  \n",
       "7                          0.5                   10.0  \n",
       "8                          0.5                   10.0  \n",
       "9                          0.5                   10.0  "
      ]
     },
     "metadata": {},
     "output_type": "display_data"
    },
    {
     "name": "stdout",
     "output_type": "stream",
     "text": [
      "Recipe will result in a total electrolyte volume of 0.51mL\n",
      "Experiment ready to begin: 29/11/2024 11:09:36\n"
     ]
    }
   ],
   "source": [
    "from src.robot_controller import experiment_setup\n",
    "\n",
    "experiment = experiment_setup.experiment(GANTRY_COM=\"/dev/cu.usbmodem1101\", PIPETTE_COM=\"/dev/cu.usbmodem1101\", GANTRY_SIM=False, PIPETTE_SIM=True)\n",
    "experiment.read_csv(CSV_PATH=\"electrolyte_recipe.csv\")"
   ]
  },
  {
   "cell_type": "markdown",
   "metadata": {},
   "source": [
    "## Run Experiment\n",
    "\n",
    "Running the below code block will begin the electrolyte formulation using the volumes and aspiration variables given in the CSV file. \n",
    "\n",
    "*TODO: How will this integrate with an optimiser to update the constituent ratios with each repeat?*"
   ]
  },
  {
   "cell_type": "code",
   "execution_count": null,
   "metadata": {},
   "outputs": [
    {
     "name": "stdout",
     "output_type": "stream",
     "text": [
      "Creating electrolyte mixture #0..\n",
      "Moving to O2..\n",
      "Response from gantry: Move complete in 3s\n",
      "Pipette pressure set to 1050mbar.\n",
      "Pipette charged.\n",
      "Dropping Pipette into O2..\n",
      "Response from gantry: Move complete in 0s\n"
     ]
    }
   ],
   "source": [
    "experiment.run(N=1)"
   ]
  },
  {
   "cell_type": "markdown",
   "metadata": {},
   "source": [
    "******************************\n",
    "## Tune Aspiration Variables\n",
    "\n",
    "Based on the literature, we can expect the aspirate constant to be roughly equal to the system pressure $P_r$ divided by the reservoir volume $V_r$. The system pressure can be assumed equal to atmospheric pressure $\\approx$ 1000mbar and the chosen reservoir volume is 2000uL $\\implies$ the constant should be about **0.5mbar/uL**.\n",
    "\n",
    "$$ \\Delta P_r = \\frac{P_s}{V_r} V_{asp} $$ \n",
    "\n",
    "For more viscous liquids, this value may increase based on the ohm's law equivalent of fluid flow through a pipe (the Hagen-Poiseuille equation). To compensate for this, an extra variable is included to slow down the rate of aspiration in an attempt to lower the pressure change required to aspirate more viscous fluids. Along with the response time of the pressure PID controller, the aspirate speed will determine how quickly the pressure of the disc pump changes. A typical value would be **10uL/s**.\n",
    "\n",
    "$$ \\Delta P = \\frac{8 \\mu L}{\\pi R^4} Q $$ "
   ]
  },
  {
   "cell_type": "code",
   "execution_count": null,
   "metadata": {},
   "outputs": [],
   "source": [
    "%matplotlib inline\n",
    "experiment.tune(name=\"example\", pot_number=1, aspirate_volume=10, starting_volume=50, asp_const_range=[0.4, 0.6], asp_speed_range=[8, 10], N=5)"
   ]
  },
  {
   "cell_type": "markdown",
   "metadata": {},
   "source": [
    "### Update the [CSV](electrolyte_recipe.csv) with the chosen variables before beginning an experiment! "
   ]
  }
 ],
 "metadata": {
  "kernelspec": {
   "display_name": ".venv",
   "language": "python",
   "name": "python3"
  },
  "language_info": {
   "codemirror_mode": {
    "name": "ipython",
    "version": 3
   },
   "file_extension": ".py",
   "mimetype": "text/x-python",
   "name": "python",
   "nbconvert_exporter": "python",
   "pygments_lexer": "ipython3",
   "version": "3.13.0"
  }
 },
 "nbformat": 4,
 "nbformat_minor": 2
}
