{
 "cells": [
  {
   "cell_type": "code",
   "execution_count": null,
   "metadata": {},
   "outputs": [],
   "source": [
    "%load_ext autoreload\n",
    "%autoreload 2\n",
    "\n",
    "from src.robot_controller import mixing_station\n",
    "\n",
    "mixing_station = mixing_station.scheduler(device_name=\"simulation\")"
   ]
  },
  {
   "cell_type": "markdown",
   "metadata": {},
   "source": [
    "# Mixing Station Workspace\n",
    "\n",
    "***\n",
    "\n",
    "## Tune Aspiration Variables\n",
    "\n",
    "The mixing station pulls information on each constituent electrolyte from a CSV file when creating a new electrolyte mixture. The constituents are numbered, which corresponds to the location of their container in the physical workspace. See the required information for each constituent below..\n",
    "\n",
    "| # | Name | Dose Volume (uL) | Container Volume (mL) | Density (g/mL) | Aspirate Constant (mbar/uL) | Aspirate Speed (uL/s) |\n",
    "| --- | --- | --- | --- | --- | --- | --- |\n",
    "\n",
    "Based on the literature, we can expect the aspirate constant to be roughly equal to the system pressure $P_r$ divided by the reservoir volume $V_r$. The system pressure can be assumed equal to atmospheric pressure $\\approx$ 1000mbar and the chosen reservoir volume is 2500uL $\\implies$ the constant should be about **0.4mbar/uL**.\n",
    "\n",
    "$$ \\Delta P_r = \\frac{P_s}{V_r} V_{asp} $$ \n",
    "\n",
    "For more viscous liquids, this value may increase based on the ohm's law equivalent of fluid flow through a pipe (the Hagen-Poiseuille equation). To compensate for this, an extra variable is included to slow down the rate of aspiration in an attempt to lower the pressure change required to aspirate more viscous fluids. Along with the response time of the pressure PID controller, the aspirate speed will determine how quickly the pressure of the disc pump changes. A typical value would be **10uL/s**.\n",
    "\n",
    "$$ \\Delta P = \\frac{8 \\mu L}{\\pi R^4} Q $$ \n",
    "\n",
    "**The aspirate speed can be set to zero, to jump straight to the aspiration pressure, for low viscosity liquids.**"
   ]
  },
  {
   "cell_type": "code",
   "execution_count": null,
   "metadata": {},
   "outputs": [],
   "source": [
    "%matplotlib inline\n",
    "mixing_station.tune(pot_number = 1, aspirate_volume = [1.0, 50.0], asp_const = [0.3, 0.8], container_volume = 35, asp_speed = 0, density = 1.0, N = 5, M = 5)"
   ]
  },
  {
   "cell_type": "markdown",
   "metadata": {},
   "source": [
    "### Update [this](data/CSVs/electrolyte_recipe.csv) CSV file with the chosen variables before beginning an experiment! \n",
    "\n",
    "***"
   ]
  },
  {
   "cell_type": "markdown",
   "metadata": {},
   "source": [
    "## Run Experiment\n",
    "\n",
    "Running the below code block will begin a simple experiment that creates an electrolye mixture based on the volumes of constitutent electrolytes given in the CSV file."
   ]
  },
  {
   "cell_type": "code",
   "execution_count": null,
   "metadata": {},
   "outputs": [],
   "source": [
    "mixing_station.csv_filename = \"electrolyte_recipe.csv\"\n",
    "mixing_station.read_csv()\n",
    "\n",
    "mixing_station.run(N=1)"
   ]
  },
  {
   "cell_type": "markdown",
   "metadata": {},
   "source": [
    "***\n",
    "\n",
    "## Future Work\n",
    "\n",
    "Once the viability of the Mixing Station has been validated, we can look to use an API to call `experiment.run()` via the [Atinary software](https://scientia.atinary.com/sdlabs/academic/dashboard), enabling a self-driving lab setup where the constituent volumes are updated with each run."
   ]
  }
 ],
 "metadata": {
  "kernelspec": {
   "display_name": ".venv",
   "language": "python",
   "name": "python3"
  },
  "language_info": {
   "codemirror_mode": {
    "name": "ipython",
    "version": 3
   },
   "file_extension": ".py",
   "mimetype": "text/x-python",
   "name": "python",
   "nbconvert_exporter": "python",
   "pygments_lexer": "ipython3",
   "version": "3.13.0"
  }
 },
 "nbformat": 4,
 "nbformat_minor": 2
}
