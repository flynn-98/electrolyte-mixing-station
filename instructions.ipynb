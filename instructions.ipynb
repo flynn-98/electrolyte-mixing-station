{
 "cells": [
  {
   "cell_type": "markdown",
   "metadata": {},
   "source": [
    "# Mixing Station Workspace\n",
    "\n",
    "***\n",
    "\n",
    "## Run Hardware Checks\n",
    "\n",
    "Run the below code block to create an instance of a device, using the hardcoded values and com port addresses provided [here](data/devices/mixing_stations.json). This code will also run through some checks to ensure all necessary hardware is connected and happy."
   ]
  },
  {
   "cell_type": "code",
   "execution_count": null,
   "metadata": {},
   "outputs": [],
   "source": [
    "%load_ext autoreload\n",
    "%autoreload 2\n",
    "\n",
    "from src.robot_controller import hardware_scheduler\n",
    "\n",
    "device = hardware_scheduler.scheduler(device_name=\"simulation\", csv_filename=\"electrolyte_recipe.csv\", home=False)"
   ]
  },
  {
   "cell_type": "markdown",
   "metadata": {},
   "source": [
    "## Run Experiment\n",
    "\n",
    "Running the below code block will begin a single experiment that creates an electrolye mixture based on the volumes of constitutent electrolytes given in the [electrolyte receipe csv file](data/recipes/electrolyte_recipe.csv)."
   ]
  },
  {
   "cell_type": "code",
   "execution_count": null,
   "metadata": {},
   "outputs": [],
   "source": [
    "device.run(temp=20)"
   ]
  },
  {
   "cell_type": "markdown",
   "metadata": {},
   "source": [
    "***\n",
    "\n",
    "## Some Theory\n",
    "\n",
    "The mixing station pulls information on each constituent electrolyte from a CSV file when creating a new electrolyte mixture. The constituents are numbered, which corresponds to the location of their container in the physical workspace. See the required information for each constituent below..\n",
    "\n",
    "| # | Name | Dose Volume (uL) | Container Volume (mL) | Density (g/mL) | Aspirate Scalar | Aspirate Speed (uL/s) |\n",
    "| --- | --- | --- | --- | --- | --- | --- |\n",
    "\n",
    "Based on the [literature](https://www.theleeco.com/uploads/2023/06/AN049-Pipetting-Disc-Pump-Application-Note-1.pdf), we can expect the aspirate constant to be roughly equal to the system pressure $P_r$ divided by the reservoir volume $V_r$. The system pressure can be assumed equal to atmospheric pressure $\\approx$ 1000mbar and the chosen reservoir volume is 2500uL $\\implies$ the constant should be about **0.4mbar/uL**.\n",
    "\n",
    "$$ \\Delta P_r = \\frac{P_s}{V_r} V_{asp} $$ \n",
    "\n",
    "For more viscous liquids, this value may increase based on the ohm's law equivalent of fluid flow through a pipe (the Hagen-Poiseuille equation). To compensate for this, an extra variable is included to slow down the rate of aspiration in an attempt to lower the pressure change required to aspirate more viscous fluids. Along with the response time of the pressure PID controller, the aspirate speed will determine how quickly the pressure of the disc pump changes. A typical value would be **100uL/s**.\n",
    "\n",
    "$$ \\Delta P = \\frac{8 \\mu L}{\\pi R^4} Q $$ \n",
    "\n",
    "***\n",
    "\n",
    "## Tuning Aspiration Variables\n",
    "\n",
    "**The aspirate speed can be set to zero, to jump straight to the aspiration pressure, for lowest viscosity liquids.**\n",
    "\n",
    "You can run the below code blocks to perform automatic tuning, where the machine will loop through the parameter ranges and use mass balance data to measure the errors. Tuning therefore requires the mass balance to be connected and positioned in the same space location as the mixing chamber.\n",
    "\n",
    "The aspirate scalar is a factor to be multiplied by the default *mbar/uL* of water. The aspirate scalar may be greater than 1.0 for more viscous liquids."
   ]
  },
  {
   "cell_type": "code",
   "execution_count": null,
   "metadata": {},
   "outputs": [],
   "source": [
    "%matplotlib inline\n",
    "device.tune(pot_number = 8, aspirate_scalars = [0.98, 1.02], aspirate_volume = [100.0, 1000.0], container_volume = 38.0, density = 1.0, N = 3, M = 5)"
   ]
  },
  {
   "cell_type": "code",
   "execution_count": null,
   "metadata": {},
   "outputs": [],
   "source": [
    "%matplotlib inline\n",
    "device.plot_aspiration_results(\"data/results/aspiration_tuning_results.csv\")"
   ]
  },
  {
   "cell_type": "markdown",
   "metadata": {},
   "source": [
    "***\n",
    "\n",
    "### Run life test\n",
    "\n",
    "Run *N* number of experiments in succession, using the parameters defined in the [life test csv file](data/recipes/life_test.csv)."
   ]
  },
  {
   "cell_type": "code",
   "execution_count": null,
   "metadata": {},
   "outputs": [],
   "source": [
    "device.run_life_test(N=10)"
   ]
  },
  {
   "cell_type": "markdown",
   "metadata": {},
   "source": [
    "***\n",
    "\n",
    "## Squidstat Analysis Mode\n",
    "\n",
    "The analysis mode of the squidstat is set as a [hardcoded value](data/devices/hardcoded_values.json), as an integer correspnding to the modes shown in the following code block. The specifics of each mode can be changed [here](src/robot_controller/admiral.py).\n",
    "\n",
    "The cell constant used in the calculations that follow the Squidstat measurements is also set via hardcoded value."
   ]
  },
  {
   "cell_type": "code",
   "execution_count": null,
   "metadata": {},
   "outputs": [],
   "source": [
    "list(device.test_cell.squid.modes)"
   ]
  }
 ],
 "metadata": {
  "kernelspec": {
   "display_name": ".venv",
   "language": "python",
   "name": "python3"
  },
  "language_info": {
   "codemirror_mode": {
    "name": "ipython",
    "version": 3
   },
   "file_extension": ".py",
   "mimetype": "text/x-python",
   "name": "python",
   "nbconvert_exporter": "python",
   "pygments_lexer": "ipython3",
   "version": "3.10.0"
  }
 },
 "nbformat": 4,
 "nbformat_minor": 2
}
