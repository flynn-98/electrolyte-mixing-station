{
 "cells": [
  {
   "cell_type": "markdown",
   "metadata": {},
   "source": [
    "# Mixing Station Workspace\n",
    "\n",
    "***\n",
    "\n",
    "## Run Hardware Checks\n",
    "\n",
    "Run the below code block to create an instance of a device, using the hardcoded values and com port addresses provided [here](data/devices/mixing_stations.json). This code will also run through some checks to ensure all necessary hardware is connected and happy."
   ]
  },
  {
   "cell_type": "code",
   "execution_count": 1,
   "metadata": {},
   "outputs": [
    {
     "name": "stdout",
     "output_type": "stream",
     "text": [
      "2025-03-12 15:26:29 INFO: Located device data for microtron_02.\n",
      "2025-03-12 15:26:29 INFO: Configuring fluid handling kit serial port..\n",
      "2025-03-12 15:26:29 INFO: Attempting to open fluid handling kit serial port..\n",
      "2025-03-12 15:26:29 INFO: Serial connection to fluid handling kit established.\n",
      "2025-03-12 15:26:29 INFO: No serial connection to mass balance established.\n",
      "2025-03-12 15:26:29 INFO: Configuring temperature controller serial port..\n",
      "2025-03-12 15:26:29 INFO: Attempting to open temperature controller serial port..\n",
      "2025-03-12 15:26:29 INFO: Serial device located: 18245 TC-XX-PR-59 REV2.6\n",
      "2025-03-12 15:26:29 INFO: Serial connection to temperature controller established.\n",
      "2025-03-12 15:26:29 INFO: Temperature regulator PID mode successfully configured.\n",
      "2025-03-12 15:26:29 INFO: Temperature regulator dead band settings successfully configured.\n",
      "2025-03-12 15:26:29 INFO: Temperature regulator voltage alarm settings successfully configured.\n",
      "2025-03-12 15:26:29 INFO: Temperature regulator current alarm settings successfully configured.\n",
      "2025-03-12 15:26:29 INFO: Temperature Sensor #1 successfully configured.\n",
      "2025-03-12 15:26:29 INFO: Temperature sensor #2 successfully configured.\n",
      "2025-03-12 15:26:29 INFO: Successfully updated steinhart coefficients for temperature sensor #1.\n",
      "2025-03-12 15:26:29 INFO: Successfully updated steinhart coefficients for temperature sensor #2.\n",
      "2025-03-12 15:26:29 INFO: Temperature regulator Fan settings successfully configured.\n",
      "2025-03-12 15:26:29 INFO: Resetting AC and DC dataframes..\n",
      "2025-03-12 15:26:29 INFO: Configuring gantry kit serial port..\n",
      "2025-03-12 15:26:29 INFO: Attempting to open gantry kit serial port..\n",
      "2025-03-12 15:26:29 INFO: Serial connection to gantry kit established.\n",
      "2025-03-12 15:26:29 INFO: Configuring pipette serial port..\n",
      "2025-03-12 15:26:29 INFO: Attempting to open pipette serial port..\n",
      "2025-03-12 15:26:29 INFO: Disc pump successfully initialised.\n",
      "2025-03-12 15:26:29 INFO: Disc pump drive mode succesfully configured.\n",
      "2025-03-12 15:26:30 INFO: Disc pump PID settings succesfully configured.\n",
      "2025-03-12 15:26:30 INFO: Disc pump gauge pressure is 1.11mbar.\n",
      "2025-03-12 15:26:36 INFO: Response from gantry kit: Gantry Homed\n",
      "2025-03-12 15:26:36 INFO: Successfully passed hardcoded values for microtron_02.\n",
      "2025-03-12 15:26:36 INFO: Reading CSV file..\n",
      "2025-03-12 15:26:36 INFO: Experiment ready to begin: 12/03/2025 15:26:36\n"
     ]
    }
   ],
   "source": [
    "%load_ext autoreload\n",
    "%autoreload 2\n",
    "\n",
    "from src.robot_controller import hardware_scheduler\n",
    "\n",
    "device = hardware_scheduler.scheduler(device_name=\"microtron_02\", csv_filename=\"electrolyte_recipe.csv\", home=False)"
   ]
  },
  {
   "cell_type": "markdown",
   "metadata": {},
   "source": [
    "## Run Experiment\n",
    "\n",
    "Running the below code block will begin a single experiment that creates an electrolye mixture based on the volumes of constitutent electrolytes given in the [electrolyte receipe csv file](data/recipes/electrolyte_recipe.csv)."
   ]
  },
  {
   "cell_type": "code",
   "execution_count": null,
   "metadata": {},
   "outputs": [],
   "source": [
    "device.run(temp=25)\n",
    "device.clean()"
   ]
  },
  {
   "cell_type": "markdown",
   "metadata": {},
   "source": [
    "***\n",
    "\n",
    "## Some Theory\n",
    "\n",
    "The mixing station pulls information on each constituent electrolyte from a CSV file when creating a new electrolyte mixture. The constituents are numbered, which corresponds to the location of their container in the physical workspace. See the required information for each constituent below..\n",
    "\n",
    "| # | Name | Dose Volume (uL) | Container Volume (mL) | Density (g/mL) | Aspirate Scalar | Aspirate Speed (uL/s) |\n",
    "| --- | --- | --- | --- | --- | --- | --- |\n",
    "\n",
    "Based on the [literature](https://www.theleeco.com/uploads/2023/06/AN049-Pipetting-Disc-Pump-Application-Note-1.pdf), we can expect the aspirate constant to be roughly equal to the system pressure $P_r$ divided by the reservoir volume $V_r$. The system pressure can be assumed equal to atmospheric pressure $\\approx$ 1000mbar and the chosen reservoir volume is 2500uL $\\implies$ the constant should be about **0.4mbar/uL**.\n",
    "\n",
    "$$ \\Delta P_r = \\frac{P_s}{V_r} V_{asp} $$ \n",
    "\n",
    "For more viscous liquids, this value may increase based on the ohm's law equivalent of fluid flow through a pipe (the Hagen-Poiseuille equation). To compensate for this, an extra variable is included to slow down the rate of aspiration in an attempt to lower the pressure change required to aspirate more viscous fluids. Along with the response time of the pressure PID controller, the aspirate speed will determine how quickly the pressure of the disc pump changes. A typical value would be **100uL/s**.\n",
    "\n",
    "$$ \\Delta P = \\frac{8 \\mu L}{\\pi R^4} Q $$ \n",
    "\n",
    "***\n",
    "\n",
    "## Tuning Aspiration Variables\n",
    "\n",
    "**The aspirate speed can be set to zero, to jump straight to the aspiration pressure, for lowest viscosity liquids.**\n",
    "\n",
    "You can run the below code blocks to perform automatic tuning, where the machine will loop through the parameter ranges and use mass balance data to measure the errors. Tuning therefore requires the mass balance to be connected and positioned in the same space location as the mixing chamber.\n",
    "\n",
    "The aspirate scalar is a factor to be multiplied by the default *mbar/uL* of water. The aspirate scalar may be greater than 1.0 for more viscous liquids."
   ]
  },
  {
   "cell_type": "code",
   "execution_count": null,
   "metadata": {},
   "outputs": [],
   "source": [
    "%matplotlib inline\n",
    "device.tune(pot_number = 8, aspirate_scalars = [0.98, 1.02], aspirate_volume = [100.0, 1000.0], container_volume = 38.0, density = 1.0, N = 3, M = 5)"
   ]
  },
  {
   "cell_type": "code",
   "execution_count": null,
   "metadata": {},
   "outputs": [],
   "source": [
    "%matplotlib inline\n",
    "device.plot_aspiration_results(\"data/results/aspiration_tuning_results.csv\")"
   ]
  },
  {
   "cell_type": "markdown",
   "metadata": {},
   "source": [
    "***\n",
    "\n",
    "### Run life test\n",
    "\n",
    "Run *N* number of experiments in succession, using the parameters defined in the [life test csv file](data/recipes/life_test.csv)."
   ]
  },
  {
   "cell_type": "code",
   "execution_count": null,
   "metadata": {},
   "outputs": [],
   "source": [
    "device.run_life_test(N=10)"
   ]
  },
  {
   "cell_type": "markdown",
   "metadata": {},
   "source": [
    "***\n",
    "\n",
    "## Squidstat Analysis Mode\n",
    "\n",
    "The analysis mode of the squidstat is set as a [hardcoded value](data/devices/hardcoded_values.json), as an integer correspnding to the modes shown in the following code block. The specifics of each mode can be changed [here](src/robot_controller/admiral.py).\n",
    "\n",
    "The cell constant used in the calculations that follow the Squidstat measurements is also set via hardcoded value."
   ]
  },
  {
   "cell_type": "code",
   "execution_count": 3,
   "metadata": {},
   "outputs": [
    {
     "data": {
      "text/plain": [
       "['0. EIS_Potentiostatic \\n',\n",
       " '1. Cyclic_Voltammetry \\n',\n",
       " '2. Constant_Current \\n',\n",
       " '3. Constant_Potential \\n',\n",
       " '4. Constant_Power \\n',\n",
       " '5. Constant_Resistance \\n',\n",
       " '6. DC_Current_Sweep \\n',\n",
       " '7. DC_Potential_Sweep \\n',\n",
       " '8. Differential_Pulse_Voltammetry \\n',\n",
       " '9. Normal_Pulse_Voltammetry \\n',\n",
       " '10. Square_Wave_Voltammetry \\n',\n",
       " '11. EIS_Galvanostatic \\n',\n",
       " '12. Open_Circuit_Potential \\n']"
      ]
     },
     "execution_count": 3,
     "metadata": {},
     "output_type": "execute_result"
    }
   ],
   "source": [
    "list(device.test_cell.squid.modes)"
   ]
  },
  {
   "cell_type": "markdown",
   "metadata": {},
   "source": [
    "## Run Quick Squidstat Analysis"
   ]
  },
  {
   "cell_type": "code",
   "execution_count": null,
   "metadata": {},
   "outputs": [
    {
     "name": "stderr",
     "output_type": "stream",
     "text": [
      "INFO:root:No serial connection to temperature controller established.\n",
      "INFO:root:Resetting AC and DC dataframes..\n",
      "INFO:root:Serial connection to Squidstat established.\n",
      "INFO:root:Ohmic Resistance calculated as 118199.12899999999Ohms (Dataset: test).\n",
      "INFO:root:Ionic Conductivity calculated as 0.85mS/cm (Dataset: test).\n",
      "INFO:root:Saving EIS plot (Dataset test)..\n"
     ]
    }
   ],
   "source": [
    "from robot_controller import test_cell\n",
    "\n",
    "test_cell = test_cell.measurements(squid_port=\"COM14\", temp_port=\"\", squid_sim=False, temp_sim=True)\n",
    "test_cell.squid.take_measurements(identifier=\"test\")\n",
    "results = test_cell.get_impedance_properties(identifier=\"test\", plot=True)"
   ]
  },
  {
   "cell_type": "code",
   "execution_count": null,
   "metadata": {},
   "outputs": [],
   "source": []
  }
 ],
 "metadata": {
  "kernelspec": {
   "display_name": ".venv",
   "language": "python",
   "name": "python3"
  },
  "language_info": {
   "codemirror_mode": {
    "name": "ipython",
    "version": 3
   },
   "file_extension": ".py",
   "mimetype": "text/x-python",
   "name": "python",
   "nbconvert_exporter": "python",
   "pygments_lexer": "ipython3",
   "version": "3.10.11"
  }
 },
 "nbformat": 4,
 "nbformat_minor": 2
}
